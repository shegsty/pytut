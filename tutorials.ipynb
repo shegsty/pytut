{
 "cells": [
  {
   "cell_type": "code",
   "execution_count": null,
   "metadata": {},
   "outputs": [],
   "source": [
    "import pandas as pd\n",
    "import seaborn as sns\n",
    "import matplotlib.pyplot as plt"
   ]
  },
  {
   "cell_type": "code",
   "execution_count": null,
   "metadata": {},
   "outputs": [],
   "source": [
    "lefile = pd.read_csv(\"./DATA HANDLING.csv\",header=0)\n",
    "\n",
    "lefilecopy = lefile\n",
    "#select all ctegorical columns\n",
    "cat_columns = lefile.select_dtypes(['object']).columns\n",
    "\n",
    "#convert all categorical variables to numeric using lambda syntax\n",
    "lefile[cat_columns] = lefile[cat_columns].apply(lambda x: pd.factorize(x)[0])\n",
    "\n",
    "filtered_cols = lefile[[\"Pclass\", \"Sex\",\"Embarked\"]]\n",
    "\n",
    "num_cols1 = filtered_cols.select_dtypes(exclude=\"object\").columns\n",
    "\n",
    "#perform a univariate analysis using bar chart to show the distribution of passengers across sex ,passenger class and embarked\n",
    "\n",
    "\n",
    "\n",
    "cols = 3\n",
    "rows = 3\n",
    "\n",
    "fig = plt.figure( figsize=(cols*5, rows*5))\n",
    "\n",
    "for i, col in enumerate(num_cols1):\n",
    "    \n",
    "    ax=fig.add_subplot(rows,cols,i+1)\n",
    "    \n",
    "    sns.countplot(x = lefile[col], ax = ax)\n",
    "    \n",
    "fig.tight_layout()  \n",
    "plt.show()\n",
    "\n"
   ]
  },
  {
   "cell_type": "code",
   "execution_count": null,
   "metadata": {},
   "outputs": [],
   "source": [
    "#multivariable scatterplot using Fares and Survived\n",
    "sns.scatterplot(data=lefile, x=\"Fare\", y=\"Survived\")\n",
    "plt.show()"
   ]
  },
  {
   "cell_type": "code",
   "execution_count": null,
   "metadata": {},
   "outputs": [],
   "source": [
    "#show the first five and last five columns\n",
    "firstfive = lefile.head(5)\n",
    "lastfive =  lefile.tail(5)"
   ]
  },
  {
   "cell_type": "code",
   "execution_count": null,
   "metadata": {},
   "outputs": [],
   "source": [
    "#constructing heatmap with NaN values cleared\n",
    "\n",
    "corr2 = lefile.corr()\n",
    "\n",
    "\n",
    "#heatmap without NaN\n",
    "ax1 = sns.heatmap(corr2, cbar=0, linewidths=2,vmax=1, vmin=0, square=True, cmap='Blues')\n",
    "plt.show()\n",
    "\n",
    "#heatmap with NaN\n",
    "ax2 = sns.heatmap(lefile.fillna(\"\").corr(), cbar=0, linewidths=2,vmax=1, vmin=0, square=True, cmap='Blues')\n",
    "plt.show()\n"
   ]
  },
  {
   "cell_type": "code",
   "execution_count": null,
   "metadata": {},
   "outputs": [],
   "source": [
    "#show column datatype and name for each column\n",
    "for column in lefile:\n",
    "  #if(lefile[column].isnumeric() & lefile[column].isalnum()):\n",
    "    print(lefile[column].name,lefile[column].dtype)"
   ]
  },
  {
   "cell_type": "code",
   "execution_count": null,
   "metadata": {},
   "outputs": [],
   "source": [
    "num_cols = lefile.select_dtypes(exclude='object')\n",
    "numcols_wo_NaN = num_cols.fillna(0)\n",
    "\n",
    "mean = num_cols.mean()\n",
    "mode = numcols_wo_NaN.mode()\n",
    "median = num_cols.median()\n",
    "print(\"the mean is : \\n{}\".format(mean))\n",
    "print(\"the mode is : \\n{}\".format(median))\n",
    "print(\"the mode is : \\n{}\".format(mode))\n",
    "numcols_wo_NaN"
   ]
  },
  {
   "cell_type": "code",
   "execution_count": null,
   "metadata": {},
   "outputs": [],
   "source": []
  }
 ],
 "metadata": {
  "kernelspec": {
   "display_name": "Python 2",
   "language": "python",
   "name": "python2"
  },
  "language_info": {
   "codemirror_mode": {
    "name": "ipython",
    "version": 2
   },
   "file_extension": ".py",
   "mimetype": "text/x-python",
   "name": "python",
   "nbconvert_exporter": "python",
   "pygments_lexer": "ipython2",
   "version": "2.7.16+"
  }
 },
 "nbformat": 4,
 "nbformat_minor": 2
}
